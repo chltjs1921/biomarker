{
  "nbformat": 4,
  "nbformat_minor": 0,
  "metadata": {
    "colab": {
      "provenance": [],
      "mount_file_id": "1cNxlYQyXfScrBuGw0-0PnQIIfq9mF1k8",
      "authorship_tag": "ABX9TyPPBPETuTZzLo+zWqWMYAb/",
      "include_colab_link": true
    },
    "kernelspec": {
      "name": "python3",
      "display_name": "Python 3"
    },
    "language_info": {
      "name": "python"
    }
  },
  "cells": [
    {
      "cell_type": "markdown",
      "metadata": {
        "id": "view-in-github",
        "colab_type": "text"
      },
      "source": [
        "<a href=\"https://colab.research.google.com/github/chltjs1921/biomarker/blob/main/Featureselect.ipynb\" target=\"_parent\"><img src=\"https://colab.research.google.com/assets/colab-badge.svg\" alt=\"Open In Colab\"/></a>"
      ]
    },
    {
      "cell_type": "code",
      "metadata": {
        "colab": {
          "base_uri": "https://localhost:8080/"
        },
        "id": "uGmWVG_o2zNS",
        "outputId": "ba327cee-c130-41e1-8433-c539a0a62521"
      },
      "source": [
        "import numpy as np\n",
        "import pandas as pd\n",
        "\n",
        "#데이터 로드 및 X,Y 분류\n",
        "\n",
        "df = pd.read_csv(\"/content/drive/MyDrive/biomarker/metabolite_birth.csv\", index_col=None)\n",
        "X = df.iloc[1:,1:-2]\n",
        "Y = df.iloc[1:,-1]\n",
        "\n",
        "#피처 중요도 찾기1\n",
        "from sklearn.feature_selection import SelectKBest\n",
        "from sklearn.feature_selection import chi2\n",
        "\n",
        "selector1 = SelectKBest(chi2, k=10)\n",
        "selector1.fit(X, Y)\n",
        "cols1 = selector1.get_support(indices=True)\n",
        "X_new1 = X.iloc[:,cols1]\n",
        "feature1 = list(X_new1.columns) # 추려낸 5개 metabolite\n",
        "feature1\n"
      ],
      "execution_count": null,
      "outputs": [
        {
          "output_type": "execute_result",
          "data": {
            "text/plain": [
              "['Taurine',\n",
              " 'L-Threonine',\n",
              " 'Ammonia',\n",
              " 'L-Alanine',\n",
              " 'Hydroxyphenyllactici acid',\n",
              " 'Dimethylamine',\n",
              " '5-Hydroxyindoleacetic acid',\n",
              " 'L-Histidine',\n",
              " 'L-Tyrosine',\n",
              " 'm-Cresol p-Cresol o-Cresol']"
            ]
          },
          "metadata": {},
          "execution_count": 9
        }
      ]
    },
    {
      "cell_type": "code",
      "metadata": {
        "id": "73GTyAJwBUS-",
        "colab": {
          "base_uri": "https://localhost:8080/"
        },
        "outputId": "03473920-944a-47c0-c15a-3a4e45829693"
      },
      "source": [
        "#피처 중요도 찾기2\n",
        "\n",
        "import numpy as np\n",
        "import pandas as pd\n",
        "\n",
        "#데이터 로드 및 X,Y 분류\n",
        "\n",
        "df = pd.read_csv(\"/content/drive/MyDrive/biomarker/metabolite_birth.csv\", index_col=None)\n",
        "X = df.iloc[1:,1:-2]\n",
        "Y = df.iloc[1:,-1]\n",
        "\n",
        "#selectfrommodel\n",
        "\n",
        "from sklearn.feature_selection import SelectFromModel\n",
        "from sklearn.ensemble import RandomForestClassifier\n",
        "selector2 = SelectFromModel(estimator=RandomForestClassifier()).fit(X, Y)\n",
        "cols2 = selector2.get_support(indices=True)\n",
        "X_new2 = X.iloc[:,cols2]\n",
        "feature2 = list(X_new2.columns) # 추려낸 metabolite\n",
        "feature2\n"
      ],
      "execution_count": null,
      "outputs": [
        {
          "output_type": "execute_result",
          "data": {
            "text/plain": [
              "['L-Arginine',\n",
              " 'Taurine',\n",
              " 'Symmetric dimethylarginine',\n",
              " 'L-Asparagine',\n",
              " 'Homo-L-arginine',\n",
              " 'Homocitrulline',\n",
              " 'N6-Acetyl-L-Lysine',\n",
              " 'L-Threonine',\n",
              " 'Gamma-Aminobutyric acid, 3-Aminoisobutanoic acid 2-Aminoisobutyric acid L-Alpha-aminobutyric acid D-Alpha-aminobutyric acid',\n",
              " 'L-Proline',\n",
              " 'Imidazoleacetic acid',\n",
              " 'Salicyluric acid',\n",
              " 'p-Aminobenzoic acid, m-Aminobenzoic acid',\n",
              " 'Pyridoxal',\n",
              " 'Vanillylmandelic acid',\n",
              " 'L-Phenylalanine',\n",
              " 'L-Isoleucine, L-Alloisoleucine, L-leucine L-Alloisoleucine',\n",
              " 'Thymine',\n",
              " '5-Hydroxylysine',\n",
              " 'Hydroxyphenyllactici acid',\n",
              " 'Desaminotyrosine',\n",
              " 'L-Histidine',\n",
              " 'Phenol']"
            ]
          },
          "metadata": {},
          "execution_count": 4
        }
      ]
    },
    {
      "cell_type": "code",
      "metadata": {
        "colab": {
          "base_uri": "https://localhost:8080/"
        },
        "id": "nBDp0XEpa4Sn",
        "outputId": "5fa2f9c1-60f1-4537-f549-14d85edbc0de"
      },
      "source": [
        "#피처 중요도 찾기3\n",
        "\n",
        "import numpy as np\n",
        "import pandas as pd\n",
        "\n",
        "#데이터 로드 및 X,Y 분류\n",
        "\n",
        "df = pd.read_csv(\"/content/drive/MyDrive/biomarker/metabolite_birth.csv\", index_col=None)\n",
        "X = df.iloc[1:,1:-2]\n",
        "Y = df.iloc[1:,-1]\n",
        "\n",
        "#rfe\n",
        "from sklearn.feature_selection import RFE\n",
        "from sklearn.tree import DecisionTreeClassifier\n",
        "\n",
        "selector3 = RFE(estimator=DecisionTreeClassifier(), n_features_to_select=10).fit(X, Y)\n",
        "cols3 = selector3.get_support(indices=True)\n",
        "X_new3 = X.iloc[:,cols3]\n",
        "feature3 = list(X_new3.columns) # 추려낸 metabolite\n",
        "feature3"
      ],
      "execution_count": null,
      "outputs": [
        {
          "output_type": "execute_result",
          "data": {
            "text/plain": [
              "['L-Aspartic Acid',\n",
              " 'Gamma-Aminobutyric acid, 3-Aminoisobutanoic acid 2-Aminoisobutyric acid L-Alpha-aminobutyric acid D-Alpha-aminobutyric acid',\n",
              " 'Pyridoxal',\n",
              " 'L-Cystine,Cysteine',\n",
              " '5-Hydroxyindoleacetic acid',\n",
              " 'Homovanillic acid',\n",
              " 'Ornithine',\n",
              " 'p-Hydroxyphenylacetic acid, 3-Hydroxyphenylacetic acid, Ortho-Hydroxyphenylacetic acid',\n",
              " 'm-Coumaric acid',\n",
              " 'L-Histidine']"
            ]
          },
          "metadata": {},
          "execution_count": 8
        }
      ]
    },
    {
      "cell_type": "code",
      "metadata": {
        "colab": {
          "base_uri": "https://localhost:8080/"
        },
        "id": "McTjL8GEgB5l",
        "outputId": "43d377bb-ef29-47b5-eadf-1cf389575c76"
      },
      "source": [
        "#겹치는 것들 찾기\n",
        "intersection1 = list(set(X_new1) & set(X_new2))\n",
        "print(intersection1)\n",
        "intersection2 = list(set(X_new2) & set(X_new3))\n",
        "print(intersection2)\n",
        "intersection3 = list(set(X_new3) & set(X_new1))\n",
        "print(intersection3)\n",
        "intersection4 = list(set(X_new1) & set(X_new2) & set(X_new3))\n",
        "print(intersection4)"
      ],
      "execution_count": null,
      "outputs": [
        {
          "output_type": "stream",
          "name": "stdout",
          "text": [
            "['Hydroxyphenyllactici acid', 'Taurine', 'L-Histidine', 'L-Threonine']\n",
            "['Gamma-Aminobutyric acid, 3-Aminoisobutanoic acid 2-Aminoisobutyric acid L-Alpha-aminobutyric acid D-Alpha-aminobutyric acid', 'L-Histidine', 'Pyridoxal']\n",
            "['5-Hydroxyindoleacetic acid', 'L-Histidine']\n",
            "['L-Histidine']\n"
          ]
        }
      ]
    }
  ]
}